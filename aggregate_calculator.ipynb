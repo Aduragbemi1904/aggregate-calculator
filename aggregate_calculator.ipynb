{
 "cells": [
  {
   "cell_type": "code",
   "execution_count": 1,
   "metadata": {},
   "outputs": [],
   "source": [
    "waec_grade_point = {'A1':4.0, 'B2':3.6, 'B3':3.2, 'C4':2.8, 'C5':2.4, 'C6':2.0}"
   ]
  },
  {
   "cell_type": "code",
   "execution_count": 2,
   "metadata": {},
   "outputs": [
    {
     "name": "stdout",
     "output_type": "stream",
     "text": [
      "Enter your choice of institution: \n",
      "1. UTME and post UTME\n",
      "2. O'level, UTME and post UTME\n",
      "2\n"
     ]
    }
   ],
   "source": [
    "option = [1, 2]\n",
    "while True:\n",
    "    school_system = int(input('Enter your choice of institution: \\n1. UTME and post UTME\\n2. O\\'level, UTME and post UTME\\n' ))\n",
    "    if school_system not in option:\n",
    "        print('enter 1 or 2')\n",
    "    else:\n",
    "        break"
   ]
  },
  {
   "cell_type": "code",
   "execution_count": 3,
   "metadata": {},
   "outputs": [
    {
     "name": "stdout",
     "output_type": "stream",
     "text": [
      "grade point1: a1\n",
      "grade point2: a1\n",
      "grade point3: a1\n",
      "grade point4: a1\n",
      "grade point5: a1\n",
      "UTME score: 400\n",
      "POST-UTME score:30\n",
      "\n",
      "AGGREGATE SCORE: 100.0\n"
     ]
    }
   ],
   "source": [
    "if school_system == 1:\n",
    "    while True:\n",
    "        jamb_score = int(input('UTME score: '))\n",
    "        if jamb_score > 400:\n",
    "            print('out of range')\n",
    "        else:\n",
    "            break\n",
    "    while True:   \n",
    "        postUTME_score = int(input('POST-UTME score: '))\n",
    "        if postUTME_score > 100:\n",
    "            print('out of range')\n",
    "        else:\n",
    "            break\n",
    "    \n",
    "    aggregate = jamb_score/8 + postUTME_score/2\n",
    "    print(\"\\nAGGREGATE SCORE:\",aggregate)\n",
    "        \n",
    "else:\n",
    "    subject_1 = input('grade point1: ').title()\n",
    "    grade_1 = waec_grade_point[subject_1]\n",
    "    \n",
    "    subject_2 = input('grade point2: ').title()\n",
    "    grade_2 = waec_grade_point[subject_2]\n",
    "    \n",
    "    subject_3 = input('grade point3: ').title()\n",
    "    grade_3 = waec_grade_point[subject_3]\n",
    "    \n",
    "    subject_4 = input('grade point4: ').title()\n",
    "    grade_4 = waec_grade_point[subject_4]\n",
    "    \n",
    "    subject_5 = input('grade point5: ').title()\n",
    "    grade_5 = waec_grade_point[subject_5]\n",
    "    \n",
    "    while True:\n",
    "        jamb_score = int(input('UTME score: '))\n",
    "        if jamb_score > 400:\n",
    "            print('out of range')\n",
    "        else:\n",
    "            break\n",
    "    while True:\n",
    "        postUTME_score = int(input('POST-UTME score:'))\n",
    "        if postUTME_score > 30:\n",
    "            print('out of range')\n",
    "        else:\n",
    "            break\n",
    "    \n",
    "    grades = grade_1 + grade_2 + grade_3 + grade_4 + grade_5\n",
    "    aggregate = grades + (jamb_score/8) + postUTME_score\n",
    "    \n",
    "    print(\"\\nAGGREGATE SCORE:\",aggregate)"
   ]
  },
  {
   "cell_type": "code",
   "execution_count": null,
   "metadata": {},
   "outputs": [],
   "source": []
  }
 ],
 "metadata": {
  "kernelspec": {
   "display_name": "Python 3",
   "language": "python",
   "name": "python3"
  },
  "language_info": {
   "codemirror_mode": {
    "name": "ipython",
    "version": 3
   },
   "file_extension": ".py",
   "mimetype": "text/x-python",
   "name": "python",
   "nbconvert_exporter": "python",
   "pygments_lexer": "ipython3",
   "version": "3.8.5"
  }
 },
 "nbformat": 4,
 "nbformat_minor": 4
}
